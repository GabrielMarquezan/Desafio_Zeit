{
 "cells": [
  {
   "cell_type": "markdown",
   "metadata": {},
   "source": [
    "# Dataset: California Housing Prices\n",
    "\n",
    "O desafio consiste em predizer o preço da habitação a partir de informações do senso de California de 1990.\n",
    "\n",
    "As colunas do dataset são as seguintes:\n",
    "- **longitude**: Longitude geográfica.\n",
    "- **latitude**: Latitude geográfica.\n",
    "- **housing_median_age**: Idade média das habitações na região, medida em anos.\n",
    "- **total_rooms**: Número total de cômodos em todas as unidades habitacionais da área analisada.\n",
    "- **total_bedrooms**: Número total de quartos em todas as unidades habitacionais da área analisada.\n",
    "- **population**: População total residente na área geográfica correspondente ao imóvel.\n",
    "- **households**: Número total de domicílios na região, representando unidades familiares ou habitacionais.\n",
    "- **median_income**: Renda mediana dos moradores da região, expressa em múltiplos de 1.000 dólares.\n",
    "- **median_house_value**: Valor mediano das residências na área, representado em dólares.\n",
    "- **ocean_proximity**: Proximidade da localização em relação ao oceano, categorizada por rótulos como \"Perto da Baía\" (Near Bay), \"Perto do Oceano\" (Near Ocean), \"Interior\" (Inland), entre outros.\n",
    "\n",
    "O candidato deve apresentar um modelo que faça a predição do preço da habitação (o candidato é livre para entregar mais de um modelo).\n",
    "\n",
    "Esse arquivo é um template para desenvolver o modelo, sinta-se a vontade para modificá-lo como preferir."
   ]
  },
  {
   "cell_type": "code",
   "execution_count": null,
   "metadata": {},
   "outputs": [],
   "source": [
    "import pandas as pd\n",
    "import numpy as np\n",
    "import torch\n",
    "from sklearn.preprocessing import StandardScaler\n",
    "from pathlib import Path\n",
    "import random"
   ]
  },
  {
   "cell_type": "markdown",
   "metadata": {},
   "source": [
    "# Para reprodutibilidade use uma seed específica para gerar números aleatórios\n",
    "Abaixo algumas formas de definir a seed aleatória de alguns frameworks populares, caso não vá usar algum sinta-se a vontade para excluir"
   ]
  },
  {
   "cell_type": "code",
   "execution_count": null,
   "metadata": {},
   "outputs": [],
   "source": [
    "random_seed = 42\n",
    "np.random.seed(random_seed)\n",
    "random.seed(random_seed)\n",
    "torch.manual_seed(random_seed)\n",
    "tf.random.set_seed(random_seed)"
   ]
  },
  {
   "cell_type": "code",
   "execution_count": null,
   "metadata": {},
   "outputs": [],
   "source": [
    "data = pd.read_csv('housing.csv')"
   ]
  },
  {
   "cell_type": "markdown",
   "metadata": {},
   "source": [
    "# Análise e visualização dos dados\n",
    "Espaço reservado para uma análise mais a fundo dos dados e para apresentação de alguns plots caso o candidato julgue necessário"
   ]
  },
  {
   "cell_type": "code",
   "execution_count": null,
   "metadata": {},
   "outputs": [],
   "source": [
    "pass"
   ]
  },
  {
   "cell_type": "markdown",
   "metadata": {},
   "source": [
    "# Pré-processamento"
   ]
  },
  {
   "cell_type": "code",
   "execution_count": null,
   "metadata": {},
   "outputs": [],
   "source": [
    "def data_preprocessing(data):\n",
    "    data[\"total_bedrooms\"] = data[\"total_bedrooms\"].fillna(data[\"total_bedrooms\"].mean())\n",
    "    data = pd.get_dummies(data, columns=[\"ocean_proximity\"], drop_first=True)\n",
    "    scaler = StandardScaler()\n",
    "    data = pd.DataFrame(scaler.fit_transform(data), columns=data.columns)\n",
    "    return data\n",
    "    \n",
    "data = data_preprocessing(data)\n",
    "data"
   ]
  },
  {
   "cell_type": "markdown",
   "metadata": {},
   "source": [
    "# Separar os dados em treino, validação e teste"
   ]
  },
  {
   "cell_type": "code",
   "execution_count": null,
   "metadata": {},
   "outputs": [],
   "source": [
    "from sklearn.model_selection import train_test_split\n",
    "X = data.drop(columns=\"median_house_value\")\n",
    "y = data[\"median_house_value\"]\n",
    "X_train, X_other, y_train, y_other = train_test_split(X, y, test_size=.2)\n",
    "X_val, X_test, y_valg, y_test = train_test_split(X, y, test_size=.5)"
   ]
  },
  {
   "cell_type": "markdown",
   "metadata": {},
   "source": [
    "# Exemplo de estrutura para utilização com o PyTorch\n",
    "não é obrigatória a utilização do PyTorch. Implementação do modelo pode ser feita com qualquer biblioteca/framework de sua escolha."
   ]
  },
  {
   "cell_type": "code",
   "execution_count": null,
   "metadata": {},
   "outputs": [],
   "source": [
    "import torch.nn as nn\n",
    "import torch.nn.functional as F\n",
    "\n",
    "class Modelo(nn.Module):\n",
    "    def __init__(self):\n",
    "        super().__init__()\n",
    "        pass\n",
    "    \n",
    "    def forward(self, x):\n",
    "        pass"
   ]
  }
 ],
 "metadata": {
  "kernelspec": {
   "display_name": ".venv",
   "language": "python",
   "name": "python3"
  },
  "language_info": {
   "codemirror_mode": {
    "name": "ipython",
    "version": 3
   },
   "file_extension": ".py",
   "mimetype": "text/x-python",
   "name": "python",
   "nbconvert_exporter": "python",
   "pygments_lexer": "ipython3",
   "version": "3.12.6"
  }
 },
 "nbformat": 4,
 "nbformat_minor": 2
}
